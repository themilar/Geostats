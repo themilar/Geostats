{
 "cells": [
  {
   "cell_type": "code",
   "execution_count": 39,
   "id": "6190de24-fe47-4c1a-bff5-cabd871ec9b9",
   "metadata": {},
   "outputs": [],
   "source": [
    "import numpy as np\n",
    "import scipy.stats as stats\n",
    "import pandas as pd\n",
    "import math\n",
    "import matplotlib.pyplot as plt"
   ]
  },
  {
   "cell_type": "code",
   "execution_count": 40,
   "id": "a8f32629",
   "metadata": {},
   "outputs": [],
   "source": [
    "# def welch_dof(x,y):\n",
    "#     dof = (x.var()/x.size + y.var()/y.size)**2/((x.var()/x.size)**2/(x.size-1) +(y.var()/y.size)**2/(y.size-1))"
   ]
  },
  {
   "cell_type": "code",
   "execution_count": 51,
   "id": "3146ca7d",
   "metadata": {},
   "outputs": [
    {
     "name": "stdout",
     "output_type": "stream",
     "text": [
      "     X1    X2\n",
      "0  0.21  0.20\n",
      "1  0.17  0.26\n",
      "2  0.15  0.20\n",
      "3  0.20  0.19\n",
      "4  0.19  0.13\n"
     ]
    },
    {
     "data": {
      "text/html": [
       "<div>\n",
       "<style scoped>\n",
       "    .dataframe tbody tr th:only-of-type {\n",
       "        vertical-align: middle;\n",
       "    }\n",
       "\n",
       "    .dataframe tbody tr th {\n",
       "        vertical-align: top;\n",
       "    }\n",
       "\n",
       "    .dataframe thead th {\n",
       "        text-align: right;\n",
       "    }\n",
       "</style>\n",
       "<table border=\"1\" class=\"dataframe\">\n",
       "  <thead>\n",
       "    <tr style=\"text-align: right;\">\n",
       "      <th></th>\n",
       "      <th>X1</th>\n",
       "      <th>X2</th>\n",
       "    </tr>\n",
       "  </thead>\n",
       "  <tbody>\n",
       "    <tr>\n",
       "      <th>0</th>\n",
       "      <td>0.21</td>\n",
       "      <td>0.20</td>\n",
       "    </tr>\n",
       "    <tr>\n",
       "      <th>1</th>\n",
       "      <td>0.17</td>\n",
       "      <td>0.26</td>\n",
       "    </tr>\n",
       "    <tr>\n",
       "      <th>2</th>\n",
       "      <td>0.15</td>\n",
       "      <td>0.20</td>\n",
       "    </tr>\n",
       "    <tr>\n",
       "      <th>3</th>\n",
       "      <td>0.20</td>\n",
       "      <td>0.19</td>\n",
       "    </tr>\n",
       "    <tr>\n",
       "      <th>4</th>\n",
       "      <td>0.19</td>\n",
       "      <td>0.13</td>\n",
       "    </tr>\n",
       "  </tbody>\n",
       "</table>\n",
       "</div>"
      ],
      "text/plain": [
       "     X1    X2\n",
       "0  0.21  0.20\n",
       "1  0.17  0.26\n",
       "2  0.15  0.20\n",
       "3  0.20  0.19\n",
       "4  0.19  0.13"
      ]
     },
     "execution_count": 51,
     "metadata": {},
     "output_type": "execute_result"
    }
   ],
   "source": [
    "df = pd.read_csv(\"porosity_sample2units.csv\")\n",
    "print(df.iloc[0:5,:])\n",
    "df.head()"
   ]
  },
  {
   "cell_type": "code",
   "execution_count": 42,
   "id": "1a6f7403",
   "metadata": {},
   "outputs": [
    {
     "data": {
      "text/html": [
       "<div>\n",
       "<style scoped>\n",
       "    .dataframe tbody tr th:only-of-type {\n",
       "        vertical-align: middle;\n",
       "    }\n",
       "\n",
       "    .dataframe tbody tr th {\n",
       "        vertical-align: top;\n",
       "    }\n",
       "\n",
       "    .dataframe thead th {\n",
       "        text-align: right;\n",
       "    }\n",
       "</style>\n",
       "<table border=\"1\" class=\"dataframe\">\n",
       "  <thead>\n",
       "    <tr style=\"text-align: right;\">\n",
       "      <th></th>\n",
       "      <th>count</th>\n",
       "      <th>mean</th>\n",
       "      <th>std</th>\n",
       "      <th>min</th>\n",
       "      <th>25%</th>\n",
       "      <th>50%</th>\n",
       "      <th>75%</th>\n",
       "      <th>max</th>\n",
       "    </tr>\n",
       "  </thead>\n",
       "  <tbody>\n",
       "    <tr>\n",
       "      <th>X1</th>\n",
       "      <td>20.0</td>\n",
       "      <td>0.1645</td>\n",
       "      <td>0.027810</td>\n",
       "      <td>0.11</td>\n",
       "      <td>0.1500</td>\n",
       "      <td>0.17</td>\n",
       "      <td>0.19</td>\n",
       "      <td>0.21</td>\n",
       "    </tr>\n",
       "    <tr>\n",
       "      <th>X2</th>\n",
       "      <td>20.0</td>\n",
       "      <td>0.2000</td>\n",
       "      <td>0.045422</td>\n",
       "      <td>0.11</td>\n",
       "      <td>0.1675</td>\n",
       "      <td>0.20</td>\n",
       "      <td>0.23</td>\n",
       "      <td>0.30</td>\n",
       "    </tr>\n",
       "  </tbody>\n",
       "</table>\n",
       "</div>"
      ],
      "text/plain": [
       "    count    mean       std   min     25%   50%   75%   max\n",
       "X1   20.0  0.1645  0.027810  0.11  0.1500  0.17  0.19  0.21\n",
       "X2   20.0  0.2000  0.045422  0.11  0.1675  0.20  0.23  0.30"
      ]
     },
     "execution_count": 42,
     "metadata": {},
     "output_type": "execute_result"
    }
   ],
   "source": [
    "df.describe().transpose()"
   ]
  },
  {
   "cell_type": "code",
   "execution_count": 43,
   "id": "0d986cfd",
   "metadata": {},
   "outputs": [],
   "source": [
    "x1=df[\"X1\"].values\n",
    "x2=df[\"X2\"].values"
   ]
  },
  {
   "cell_type": "markdown",
   "id": "8580ca15",
   "metadata": {},
   "source": [
    "## confidence interval for the mean\n"
   ]
  },
  {
   "cell_type": "code",
   "execution_count": 44,
   "id": "8335a482",
   "metadata": {},
   "outputs": [
    {
     "name": "stdout",
     "output_type": "stream",
     "text": [
      "the confidence interval for the x1 mean is [0.151 0.178]\n"
     ]
    }
   ],
   "source": [
    "ci_mean_95_x1=stats.t.interval(.95,len(df)-1,loc=np.mean(x1),scale=stats.sem(x1))\n",
    "print(f\"the confidence interval for the x1 mean is {np.round(ci_mean_95_x1,3)}\")"
   ]
  },
  {
   "cell_type": "code",
   "execution_count": 45,
   "id": "128338a3",
   "metadata": {},
   "outputs": [
    {
     "name": "stdout",
     "output_type": "stream",
     "text": [
      "statistic +/- t-score * standard error\n",
      "  0.164   +/-  2.09   *    0.00606    \n",
      "the manually derived confidence interval for the mean x1 is [0.15 0.18]\n"
     ]
    }
   ],
   "source": [
    "smean=np.mean(x1)\n",
    "sstdv=np.std(x1)\n",
    "n=len(x1)\n",
    "dof=len(df)-1\n",
    "tscore=stats.t.ppf([.025,.975],df=dof)\n",
    "se=sstdv/math.sqrt(n)\n",
    "lower_CI,upper_CI=np.round(smean+tscore*se,2)\n",
    "print(\"statistic +/- t-score * standard error\")\n",
    "print(f\"{np.round(smean,3):^9} +/- {np.round(tscore[1],2):^7} * {np.round(se,5):^14}\")\n",
    "print(f\"the manually derived confidence interval for the mean x1 is {np.round([lower_CI,upper_CI],3)}\")"
   ]
  },
  {
   "cell_type": "code",
   "execution_count": 46,
   "id": "78c28af2",
   "metadata": {},
   "outputs": [
    {
     "data": {
      "image/png": "[encoded data removed]",
      "text/plain": [
       "<Figure size 640x480 with 1 Axes>"
      ]
     },
     "metadata": {},
     "output_type": "display_data"
    }
   ],
   "source": [
    "xval=np.linspace(.1,.26,1000)\n",
    "tpdf=stats.t.pdf(xval,loc=smean,df=dof,scale=se)\n",
    "plt.plot(xval,tpdf,color='red',lw=2); plt.xlabel('Values'); plt.ylabel('Density'); plt.title('Confidence Interval for the Population Mean')\n",
    "plt.xlim([0.1,0.26]); plt.ylim([0,80])\n",
    "\n",
    "plt.annotate('lower interval = ' + str(lower_CI),[lower_CI-0.0015,stats.t.pdf(lower_CI,df = dof, loc = smean, scale = sstdv/np.sqrt(n))+5],rotation=90.0)\n",
    "plt.annotate('upper interval = ' + str(upper_CI),[upper_CI-0.0015,stats.t.pdf(upper_CI,df = dof, loc = smean, scale = sstdv/np.sqrt(n))+6],rotation=90.0)\n",
    "plt.annotate(r'$\\overline{x} = $' + str(np.round(smean,3)),[smean-0.0015,stats.t.pdf(smean,df = dof, loc = smean, scale = sstdv/np.sqrt(n))+2],rotation=90.0)\n",
    "    \n",
    "plt.fill_between(xval,tpdf,where= xval < lower_CI, color='red',alpha=0.7)\n",
    "plt.fill_between(xval,tpdf,where= xval > upper_CI, color='red',alpha=0.7)\n",
    "plt.vlines(smean,0,65,color='black',ls='--')\n",
    "plt.vlines(lower_CI,0,7,color='black',ls='--'); plt.vlines(upper_CI,0,7,color='black',ls='--')\n",
    "\n",
    "plt.subplots_adjust(left=0.0, bottom=0.0, right=1.0, top=1.1, wspace=0.3, hspace=0.4); plt.show()"
   ]
  },
  {
   "cell_type": "markdown",
   "id": "89bf2d0c",
   "metadata": {},
   "source": [
    " ## interval for the proportion"
   ]
  },
  {
   "cell_type": "code",
   "execution_count": 47,
   "id": "14a934d2",
   "metadata": {},
   "outputs": [
    {
     "name": "stdout",
     "output_type": "stream",
     "text": [
      "new binary feature, 1 = high porosity, 0 = low porosity\n",
      "[1 0 0 1 1 1 0 0 0 0 0 0 1 0 0 0 0 1 1 0]\n",
      "the proportion of high porosity rock in well x1 is  0.35\n"
     ]
    }
   ],
   "source": [
    "cx1=np.where(x1<.18,0,1)\n",
    "prop_cx1=np.sum(cx1==1)/cx1.shape[0]\n",
    "print(\"new binary feature, 1 = high porosity, 0 = low porosity\")\n",
    "print(cx1)\n",
    "print(\"the proportion of high porosity rock in well x1 is \",np.round(prop_cx1,2))"
   ]
  },
  {
   "cell_type": "code",
   "execution_count": 48,
   "id": "4cfc2322",
   "metadata": {},
   "outputs": [
    {
     "name": "stdout",
     "output_type": "stream",
     "text": [
      "the confidence interval for the x1 proportion of high porosity is  [0.244 0.456]\n"
     ]
    }
   ],
   "source": [
    "se_prop=(prop_cx1*(1-prop_cx1))/math.sqrt(cx1.shape[0])\n",
    "ci_prop_95_x1=stats.t.interval(.95,cx1.shape[0]-1,loc=prop_cx1,scale=se_prop)\n",
    "print(\"the confidence interval for the x1 proportion of high porosity is \",np.round(ci_prop_95_x1,3))"
   ]
  },
  {
   "cell_type": "code",
   "execution_count": 50,
   "id": "b7d88854",
   "metadata": {},
   "outputs": [
    {
     "name": "stdout",
     "output_type": "stream",
     "text": [
      "statistic +/- t-score * standard error\n",
      "  0.35    +/-  2.09   *     0.0509    \n",
      "the confidence interval for the x1 proportion of high porosity [-1.692  2.494]\n"
     ]
    }
   ],
   "source": [
    "sample_prop=np.sum(cx1==1)/cx1.shape[0]\n",
    "t_score=stats.t.ppf([.025,.975],df=len(df)-1)\n",
    "se_prop=(prop_cx1*(1-prop_cx1))/math.sqrt(cx1.shape[0])\n",
    "ci_prop_BH_95_x1=sample_prop+tscore+se_prop\n",
    "print(\"statistic +/- t-score * standard error\")\n",
    "print(f\"{np.round(sample_prop,3):^9} +/- {np.round(t_score[1],2):^7} * {np.round(se_prop,4):^14}\")\n",
    "print(\"the confidence interval for the x1 proportion of high porosity\",np.round(ci_prop_BH_95_x1,3))"
   ]
  }
 ],
 "metadata": {
  "kernelspec": {
   "display_name": "geostatistics_sessions",
   "language": "python",
   "name": "geostatistics_sessions"
  },
  "language_info": {
   "codemirror_mode": {
    "name": "ipython",
    "version": 3
   },
   "file_extension": ".py",
   "mimetype": "text/x-python",
   "name": "python",
   "nbconvert_exporter": "python",
   "pygments_lexer": "ipython3",
   "version": "3.13.5"
  }
 },
 "nbformat": 4,
 "nbformat_minor": 5
}
