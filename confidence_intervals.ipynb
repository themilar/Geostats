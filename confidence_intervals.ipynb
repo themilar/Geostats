{
 "cells": [
  {
   "cell_type": "code",
   "execution_count": null,
   "id": "6190de24-fe47-4c1a-bff5-cabd871ec9b9",
   "metadata": {},
   "outputs": [],
   "source": []
  }
 ],
 "metadata": {
  "kernelspec": {
   "display_name": "geostatistics_sessions",
   "language": "python",
   "name": "geostatistics_sessions"
  },
  "language_info": {
   "codemirror_mode": {
    "name": "ipython",
    "version": 3
   },
   "file_extension": ".py",
   "mimetype": "text/x-python",
   "name": "python",
   "nbconvert_exporter": "python",
   "pygments_lexer": "ipython3",
   "version": "3.13.5"
  }
 },
 "nbformat": 4,
 "nbformat_minor": 5
}
