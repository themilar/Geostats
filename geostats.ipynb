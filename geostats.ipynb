{
 "cells": [
  {
   "cell_type": "code",
   "execution_count": 2,
   "id": "32e34bda-23ca-4a6a-88be-e207a114dce6",
   "metadata": {},
   "outputs": [],
   "source": [
    "import numpy as np\n",
    "import pandas as pd\n",
    "import matplotlib.pyplot as plt\n",
    "import scipy\n",
    "import statistics as stats"
   ]
  },
  {
   "cell_type": "code",
   "execution_count": 3,
   "id": "7b984af0-56c9-48cf-a37a-f32d2d47b551",
   "metadata": {},
   "outputs": [
    {
     "data": {
      "text/html": [
       "<div>\n",
       "<style scoped>\n",
       "    .dataframe tbody tr th:only-of-type {\n",
       "        vertical-align: middle;\n",
       "    }\n",
       "\n",
       "    .dataframe tbody tr th {\n",
       "        vertical-align: top;\n",
       "    }\n",
       "\n",
       "    .dataframe thead th {\n",
       "        text-align: right;\n",
       "    }\n",
       "</style>\n",
       "<table border=\"1\" class=\"dataframe\">\n",
       "  <thead>\n",
       "    <tr style=\"text-align: right;\">\n",
       "      <th></th>\n",
       "      <th>X</th>\n",
       "      <th>Y</th>\n",
       "      <th>facies_threshold_0.3</th>\n",
       "      <th>porosity</th>\n",
       "      <th>permeability</th>\n",
       "      <th>acoustic_impedance</th>\n",
       "    </tr>\n",
       "  </thead>\n",
       "  <tbody>\n",
       "    <tr>\n",
       "      <th>0</th>\n",
       "      <td>565</td>\n",
       "      <td>1485</td>\n",
       "      <td>1</td>\n",
       "      <td>0.1184</td>\n",
       "      <td>6.1700</td>\n",
       "      <td>2.009</td>\n",
       "    </tr>\n",
       "    <tr>\n",
       "      <th>1</th>\n",
       "      <td>2585</td>\n",
       "      <td>1185</td>\n",
       "      <td>1</td>\n",
       "      <td>0.1566</td>\n",
       "      <td>6.2750</td>\n",
       "      <td>2.864</td>\n",
       "    </tr>\n",
       "    <tr>\n",
       "      <th>2</th>\n",
       "      <td>2065</td>\n",
       "      <td>2865</td>\n",
       "      <td>2</td>\n",
       "      <td>0.1920</td>\n",
       "      <td>92.2970</td>\n",
       "      <td>3.524</td>\n",
       "    </tr>\n",
       "    <tr>\n",
       "      <th>3</th>\n",
       "      <td>3575</td>\n",
       "      <td>2655</td>\n",
       "      <td>1</td>\n",
       "      <td>0.1621</td>\n",
       "      <td>9.0480</td>\n",
       "      <td>2.157</td>\n",
       "    </tr>\n",
       "    <tr>\n",
       "      <th>4</th>\n",
       "      <td>1835</td>\n",
       "      <td>35</td>\n",
       "      <td>1</td>\n",
       "      <td>0.1766</td>\n",
       "      <td>7.1230</td>\n",
       "      <td>3.979</td>\n",
       "    </tr>\n",
       "    <tr>\n",
       "      <th>5</th>\n",
       "      <td>3375</td>\n",
       "      <td>2525</td>\n",
       "      <td>1</td>\n",
       "      <td>0.1239</td>\n",
       "      <td>1.4680</td>\n",
       "      <td>2.337</td>\n",
       "    </tr>\n",
       "    <tr>\n",
       "      <th>6</th>\n",
       "      <td>2295</td>\n",
       "      <td>1325</td>\n",
       "      <td>1</td>\n",
       "      <td>0.1790</td>\n",
       "      <td>31.9330</td>\n",
       "      <td>3.491</td>\n",
       "    </tr>\n",
       "    <tr>\n",
       "      <th>7</th>\n",
       "      <td>3715</td>\n",
       "      <td>3045</td>\n",
       "      <td>2</td>\n",
       "      <td>0.1914</td>\n",
       "      <td>116.7810</td>\n",
       "      <td>2.187</td>\n",
       "    </tr>\n",
       "    <tr>\n",
       "      <th>8</th>\n",
       "      <td>2865</td>\n",
       "      <td>2215</td>\n",
       "      <td>1</td>\n",
       "      <td>0.1763</td>\n",
       "      <td>3.0030</td>\n",
       "      <td>2.048</td>\n",
       "    </tr>\n",
       "    <tr>\n",
       "      <th>9</th>\n",
       "      <td>55</td>\n",
       "      <td>1545</td>\n",
       "      <td>1</td>\n",
       "      <td>0.1674</td>\n",
       "      <td>5.2130</td>\n",
       "      <td>2.251</td>\n",
       "    </tr>\n",
       "    <tr>\n",
       "      <th>10</th>\n",
       "      <td>2125</td>\n",
       "      <td>1105</td>\n",
       "      <td>1</td>\n",
       "      <td>0.1369</td>\n",
       "      <td>3.6930</td>\n",
       "      <td>3.627</td>\n",
       "    </tr>\n",
       "    <tr>\n",
       "      <th>11</th>\n",
       "      <td>565</td>\n",
       "      <td>195</td>\n",
       "      <td>1</td>\n",
       "      <td>0.1095</td>\n",
       "      <td>0.2627</td>\n",
       "      <td>2.860</td>\n",
       "    </tr>\n",
       "    <tr>\n",
       "      <th>12</th>\n",
       "      <td>3475</td>\n",
       "      <td>1035</td>\n",
       "      <td>1</td>\n",
       "      <td>0.1677</td>\n",
       "      <td>9.9140</td>\n",
       "      <td>2.742</td>\n",
       "    </tr>\n",
       "  </tbody>\n",
       "</table>\n",
       "</div>"
      ],
      "text/plain": [
       "       X     Y  facies_threshold_0.3  porosity  permeability  \\\n",
       "0    565  1485                     1    0.1184        6.1700   \n",
       "1   2585  1185                     1    0.1566        6.2750   \n",
       "2   2065  2865                     2    0.1920       92.2970   \n",
       "3   3575  2655                     1    0.1621        9.0480   \n",
       "4   1835    35                     1    0.1766        7.1230   \n",
       "5   3375  2525                     1    0.1239        1.4680   \n",
       "6   2295  1325                     1    0.1790       31.9330   \n",
       "7   3715  3045                     2    0.1914      116.7810   \n",
       "8   2865  2215                     1    0.1763        3.0030   \n",
       "9     55  1545                     1    0.1674        5.2130   \n",
       "10  2125  1105                     1    0.1369        3.6930   \n",
       "11   565   195                     1    0.1095        0.2627   \n",
       "12  3475  1035                     1    0.1677        9.9140   \n",
       "\n",
       "    acoustic_impedance  \n",
       "0                2.009  \n",
       "1                2.864  \n",
       "2                3.524  \n",
       "3                2.157  \n",
       "4                3.979  \n",
       "5                2.337  \n",
       "6                3.491  \n",
       "7                2.187  \n",
       "8                2.048  \n",
       "9                2.251  \n",
       "10               3.627  \n",
       "11               2.860  \n",
       "12               2.742  "
      ]
     },
     "execution_count": 3,
     "metadata": {},
     "output_type": "execute_result"
    }
   ],
   "source": [
    "df = pd.read_csv(\"./200well.csv\")\n",
    "df.head(n=13)"
   ]
  },
  {
   "cell_type": "code",
   "execution_count": 4,
   "id": "a873be92-5470-4ee1-a371-0278b4c9fbe4",
   "metadata": {},
   "outputs": [],
   "source": [
    "poro=df[\"porosity\"].values\n"
   ]
  },
  {
   "cell_type": "code",
   "execution_count": 5,
   "id": "130ae4eb-c0ed-41b0-8286-a43029d6b478",
   "metadata": {},
   "outputs": [
    {
     "name": "stdout",
     "output_type": "stream",
     "text": [
      "the average porosity is 0.15\n"
     ]
    }
   ],
   "source": [
    "avg_poro = np.average(poro)\n",
    "print(f\"the average porosity is {avg_poro:.2f}\")"
   ]
  },
  {
   "cell_type": "code",
   "execution_count": 8,
   "id": "cdb44e21-4032-49d3-a4a7-a2a5d9f21154",
   "metadata": {},
   "outputs": [
    {
     "name": "stdout",
     "output_type": "stream",
     "text": [
      "The measures of central tendency of the porosity data are given as follows:\n",
      "Mode:0.14\n",
      "Harmonic mean: 0.14\n",
      "Geometric mean: 0.15\n"
     ]
    }
   ],
   "source": [
    "modal_porosity = stats.mode(poro)\n",
    "harmonic_porosity=scipy.stats.mstats.hmean(poro)\n",
    "geometric_porosity=scipy.stats.mstats.gmean(poro)\n",
    "print(f\"The measures of central tendency of the porosity data are given as follows:\\nMode:{modal_porosity:.2f}\\nHarmonic mean: {harmonic_porosity:.2f}\\nGeometric mean: {geometric_porosity:.2f}\")"
   ]
  },
  {
   "cell_type": "code",
   "execution_count": 9,
   "id": "9de8efa9-b10c-4c06-a2d3-ccda0e6374e5",
   "metadata": {},
   "outputs": [
    {
     "data": {
      "image/png": "[encoded data removed]",
      "text/plain": [
       "<Figure size 640x480 with 1 Axes>"
      ]
     },
     "metadata": {},
     "output_type": "display_data"
    }
   ],
   "source": [
    "sorted_porosity = np.sort(poro)\n",
    "\n",
    "# calculate the cumulative probabilities assuming known tails\n",
    "p = np.arange(len(poro)) / (len(poro) - 1)\n",
    "\n",
    "# plot the cumulative probabilities vs. the sorted porosity values\n",
    "plt.subplot(122)\n",
    "plt.scatter(sorted_porosity, p, c = 'red', edgecolors = 'black', s = 10, alpha = 0.7)\n",
    "plt.xlabel('Porosity (fraction)'); plt.ylabel('Cumulative Probability'); plt.grid(); \n",
    "plt.title('Nonparametric Porosity CDF')\n",
    "plt.ylim([0,1]); plt.xlim([0,0.25])\n",
    "plt.subplots_adjust(left=0.0, bottom=0.0, right=2.0, top=1.2, wspace=0.2, hspace=0.3)"
   ]
  },
  {
   "cell_type": "code",
   "execution_count": null,
   "id": "cab4609f-5e8c-4bbb-9d01-e1e357424652",
   "metadata": {},
   "outputs": [],
   "source": []
  },
  {
   "cell_type": "code",
   "execution_count": null,
   "id": "c74e5dc8-5cf6-4538-8e6c-cdf052842507",
   "metadata": {},
   "outputs": [],
   "source": []
  }
 ],
 "metadata": {
  "kernelspec": {
   "display_name": "geostatistics_sessions",
   "language": "python",
   "name": "geostatistics_sessions"
  },
  "language_info": {
   "codemirror_mode": {
    "name": "ipython",
    "version": 3
   },
   "file_extension": ".py",
   "mimetype": "text/x-python",
   "name": "python",
   "nbconvert_exporter": "python",
   "pygments_lexer": "ipython3",
   "version": "3.13.5"
  }
 },
 "nbformat": 4,
 "nbformat_minor": 5
}
